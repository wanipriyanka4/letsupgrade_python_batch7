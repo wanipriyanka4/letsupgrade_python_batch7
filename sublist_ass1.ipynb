{
  "nbformat": 4,
  "nbformat_minor": 0,
  "metadata": {
    "colab": {
      "name": "sublist ass1",
      "provenance": [],
      "collapsed_sections": []
    },
    "kernelspec": {
      "name": "python3",
      "display_name": "Python 3"
    }
  },
  "cells": [
    {
      "cell_type": "code",
      "metadata": {
        "id": "ofXSsCQDk0JM",
        "colab_type": "code",
        "colab": {
          "base_uri": "https://localhost:8080/",
          "height": 51
        },
        "outputId": "8d18593d-b66f-4f16-b1fb-e767d3b7edc3"
      },
      "source": [
        "#     Q1 write a program to identify sublist[ 1,1,5] is there in the given list in the same order if yes print \"its a Match\"\n",
        "#if no then print\"its Gone \" in function\n",
        "#example\n",
        "#Listy=[1,5,6,4,1,2,3,5] its Mach\n",
        "#Listy=[1,5,6,5,1,2,3,6] its Gone\n",
        "\n",
        "\n",
        "x = [1,5,6,4,1,2,3,5]\n",
        "y = [1,1,5]\n",
        "\n",
        "def check(a,b):\n",
        "    for i in a:\n",
        "        for j in b:\n",
        "            if(len(b)>=0 and j == i):\n",
        "                b.pop(0)\n",
        "            else:\n",
        "                break\n",
        "    return b\n",
        "\n",
        "if len(check(x,y))==0:\n",
        "    print(\"Its a match\")\n",
        "else:\n",
        "   print(\"Its gone\")\n",
        "\n",
        "check(x,y)\n"
      ],
      "execution_count": 6,
      "outputs": [
        {
          "output_type": "stream",
          "text": [
            "Its a match\n"
          ],
          "name": "stdout"
        },
        {
          "output_type": "execute_result",
          "data": {
            "text/plain": [
              "[]"
            ]
          },
          "metadata": {
            "tags": []
          },
          "execution_count": 6
        }
      ]
    },
    {
      "cell_type": "code",
      "metadata": {
        "id": "u3m8Rypzk9vn",
        "colab_type": "code",
        "colab": {}
      },
      "source": [
        ""
      ],
      "execution_count": null,
      "outputs": []
    }
  ]
}