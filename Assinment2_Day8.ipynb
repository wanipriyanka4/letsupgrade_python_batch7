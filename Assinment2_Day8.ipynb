{
  "nbformat": 4,
  "nbformat_minor": 0,
  "metadata": {
    "colab": {
      "name": "Assinment2 Day8",
      "provenance": [],
      "collapsed_sections": []
    },
    "kernelspec": {
      "name": "python3",
      "display_name": "Python 3"
    }
  },
  "cells": [
    {
      "cell_type": "code",
      "metadata": {
        "id": "LM85CqZf69hP",
        "colab_type": "code",
        "colab": {}
      },
      "source": [
        "#for this challenge you need to develop a python program to open a file in read only mode and try writing something to it and handle the subsequent\n",
        "\t# errors using exceptoion handling.\n",
        "\n",
        ">>>\n",
        ">>> 2/0\n",
        "Traceback (most recent call last):\n",
        "  File \"<stdin>\", line 1, in <module>\n",
        "ZeroDivisionError: division by zero\n",
        ">>>\n",
        "\n",
        "\n"
      ],
      "execution_count": null,
      "outputs": []
    },
    {
      "cell_type": "code",
      "metadata": {
        "id": "aKDGMf7SFqcH",
        "colab_type": "code",
        "colab": {}
      },
      "source": [
        ">>>\n",
        ">>> 10 + \"12\"\n",
        "Traceback (most recent call last):\n",
        "  File \"<stdin>\", line 1, in <module>\n",
        "TypeError: unsupported operand type(s) for +: 'int' and 'str'\n",
        ">>>"
      ],
      "execution_count": null,
      "outputs": []
    },
    {
      "cell_type": "code",
      "metadata": {
        "id": "zzFENGSnF6Bu",
        "colab_type": "code",
        "colab": {}
      },
      "source": [
        ""
      ],
      "execution_count": null,
      "outputs": []
    },
    {
      "cell_type": "code",
      "metadata": {
        "id": "NyLdTGOLF8fr",
        "colab_type": "code",
        "colab": {}
      },
      "source": [
        ""
      ],
      "execution_count": null,
      "outputs": []
    }
  ]
}