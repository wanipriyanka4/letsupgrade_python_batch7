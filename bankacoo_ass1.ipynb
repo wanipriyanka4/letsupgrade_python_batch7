{
  "nbformat": 4,
  "nbformat_minor": 0,
  "metadata": {
    "colab": {
      "name": "bankacoo ass1",
      "provenance": []
    },
    "kernelspec": {
      "name": "python3",
      "display_name": "Python 3"
    }
  },
  "cells": [
    {
      "cell_type": "code",
      "metadata": {
        "id": "jbE3fH-SB-fy",
        "colab_type": "code",
        "colab": {
          "base_uri": "https://localhost:8080/",
          "height": 102
        },
        "outputId": "dd7e9358-0f7c-4340-c83c-949e81df136f"
      },
      "source": [
        "#1 for this challenge,create a bank account class that has two attributes\n",
        "#  * ownerName\n",
        " # *balnce\n",
        "  #and two methods\n",
        "  #*deposit\n",
        "  #*withdraw\n",
        "  #As an added reqirement,withdrawls may not exceed the available balance.\n",
        "  #Instantiate your class, make serval deposits and withdrawls, and test to make sure the account cannot overdrawn\n",
        "\n",
        "    \n",
        "\n",
        "class Account:\n",
        "    \n",
        "    def __init__(self, owner, balance):\n",
        "        self.owner = owner\n",
        "        self.balance = balance\n",
        "    \n",
        "    def __str__(self):\n",
        "        return 'Account owner: {owner}\\nAccount balance: ${balance}'.format(owner=self.owner, balance=self.balance)\n",
        "        \n",
        "    def deposit(self, dp_money):\n",
        "        self.balance += dp_money\n",
        "        print('Deposit Accepted, your balance is {balance}'.format(balance=self.balance))\n",
        "    \n",
        "    def withdraw(self, wd_money):\n",
        "        if wd_money > self.balance:\n",
        "            print('Funds Unavailable!')\n",
        "        else:\n",
        "            self.balance -= wd_money\n",
        "            print('Withdrawal Accepted, your balance is {balance}'.format(balance=self.balance))\n",
        "            \n",
        "acct1 = Account('priyanka',1000)\n",
        "print(acct1)\n",
        "\n",
        "acct1.deposit(100)\n",
        "acct1.withdraw(200)\n",
        "acct1.withdraw(300)"
      ],
      "execution_count": 5,
      "outputs": [
        {
          "output_type": "stream",
          "text": [
            "Account owner: priyanka\n",
            "Account balance: $1000\n",
            "Deposit Accepted, your balance is 1100\n",
            "Withdrawal Accepted, your balance is 900\n",
            "Withdrawal Accepted, your balance is 600\n"
          ],
          "name": "stdout"
        }
      ]
    },
    {
      "cell_type": "code",
      "metadata": {
        "id": "FK-1o6oQCCpp",
        "colab_type": "code",
        "colab": {}
      },
      "source": [
        ""
      ],
      "execution_count": null,
      "outputs": []
    }
  ]
}