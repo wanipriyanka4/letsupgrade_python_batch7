{
  "nbformat": 4,
  "nbformat_minor": 0,
  "metadata": {
    "colab": {
      "name": "day2 assignment 1",
      "provenance": [],
      "collapsed_sections": []
    },
    "kernelspec": {
      "name": "python3",
      "display_name": "Python 3"
    }
  },
  "cells": [
    {
      "cell_type": "code",
      "metadata": {
        "id": "00vqEFkYelhf",
        "colab_type": "code",
        "colab": {
          "base_uri": "https://localhost:8080/",
          "height": 51
        },
        "outputId": "2ac4395e-1bb2-4c63-dceb-89ad0e12ad3a"
      },
      "source": [
        "# 1 .append(x)\t\n",
        "#Adds an item (x) to the end of the list. This is equivalent to a[len(a):] = [x].\n",
        "a = [\"wani\", \"priya\"]\n",
        "print(a)\n",
        "a.append(\"shirpur\")\n",
        "print(a)"
      ],
      "execution_count": null,
      "outputs": [
        {
          "output_type": "stream",
          "text": [
            "['wani', 'priya']\n",
            "['wani', 'priya', 'shirpur']\n"
          ],
          "name": "stdout"
        }
      ]
    },
    {
      "cell_type": "code",
      "metadata": {
        "id": "p5hJ0LJ6e11o",
        "colab_type": "code",
        "colab": {
          "base_uri": "https://localhost:8080/",
          "height": 51
        },
        "outputId": "26d0e715-d434-4d06-93ef-66f29088fa89"
      },
      "source": [
        "# 2. extend(iterable)\t\n",
        "# Extends the list by appending all the items from the iterable. This allows you to join two lists together. This method is equivalent to a[len(a):] = iterable.\n",
        "a = [\"wani\", \"priya\"]\n",
        "print(a)\n",
        "a.extend([\"shirpur\", \"dhule\"])\n",
        "print(a)\n",
        "\n"
      ],
      "execution_count": null,
      "outputs": [
        {
          "output_type": "stream",
          "text": [
            "['wani', 'priya']\n",
            "['wani', 'priya', 'shirpur', 'dhule']\n"
          ],
          "name": "stdout"
        }
      ]
    },
    {
      "cell_type": "code",
      "metadata": {
        "id": "9Prg9BzdfXvF",
        "colab_type": "code",
        "colab": {
          "base_uri": "https://localhost:8080/",
          "height": 51
        },
        "outputId": "b4ae76e0-abff-4d9d-84d9-614d3c792a54"
      },
      "source": [
        "a = [\"wani\", \"priya\", \"shirpur\"]\n",
        "print(a)\n",
        "a.remove(\"priya\")\n",
        "print(a)\n",
        "#remove(x)\n",
        "#\tRemoves the first item from the list that has a value of x. Returns an error if there is no such item.\n"
      ],
      "execution_count": null,
      "outputs": [
        {
          "output_type": "stream",
          "text": [
            "['wani', 'priya', 'shirpur']\n",
            "['wani', 'shirpur']\n"
          ],
          "name": "stdout"
        }
      ]
    },
    {
      "cell_type": "code",
      "metadata": {
        "id": "0RNoG3JpgHcA",
        "colab_type": "code",
        "colab": {}
      },
      "source": [
        ""
      ],
      "execution_count": null,
      "outputs": []
    }
  ]
}