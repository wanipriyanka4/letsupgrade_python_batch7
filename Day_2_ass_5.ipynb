{
  "nbformat": 4,
  "nbformat_minor": 0,
  "metadata": {
    "colab": {
      "name": "Day 2 ass 5",
      "provenance": [],
      "collapsed_sections": []
    },
    "kernelspec": {
      "name": "python3",
      "display_name": "Python 3"
    }
  },
  "cells": [
    {
      "cell_type": "code",
      "metadata": {
        "id": "mpSzHZ9zRSus",
        "colab_type": "code",
        "colab": {
          "base_uri": "https://localhost:8080/",
          "height": 68
        },
        "outputId": "d8cdafad-5ba3-4077-a797-4cd4402ebe5c"
      },
      "source": [
        "#String isupper()\n",
        "#The string isupper() method returns whether or not all characters in a string are uppercased or not.\n",
        "# example string\n",
        "string = \"THIS IS PRIYANKA!\"\n",
        "print(string.isupper());\n",
        "\n",
        "# numbers in place of alphabets\n",
        "string = \"THIS IS DHANSHREE!\"\n",
        "print(string.isupper());\n",
        "\n",
        "# lowercase string\n",
        "string = \"THIS IS not SAGAR!\"\n",
        "print(string.isupper());"
      ],
      "execution_count": 6,
      "outputs": [
        {
          "output_type": "stream",
          "text": [
            "True\n",
            "True\n",
            "False\n"
          ],
          "name": "stdout"
        }
      ]
    },
    {
      "cell_type": "code",
      "metadata": {
        "id": "WTeTUkoPTJUU",
        "colab_type": "code",
        "colab": {
          "base_uri": "https://localhost:8080/",
          "height": 51
        },
        "outputId": "e50ddc53-3ea1-441f-cb3d-938d2cb57a1a"
      },
      "source": [
        "#String lower()\n",
        "#The string lower() method converts all uppercase characters in a string into lowercase characters and returns it.\n",
        "# example string\n",
        "string = \"WANI PRIYANKA RAVINDRA!\"\n",
        "print(string.lower())\n",
        "\n",
        "# string with numbers\n",
        "# all alphabets whould be lowercase\n",
        "string = \"Th!s Sh0uLd B3 L0w3rCas3!\"\n",
        "print(string.lower())\n"
      ],
      "execution_count": 4,
      "outputs": [
        {
          "output_type": "stream",
          "text": [
            "wani priyanka ravindra!\n",
            "th!s sh0uld b3 l0w3rcas3!\n"
          ],
          "name": "stdout"
        }
      ]
    },
    {
      "cell_type": "code",
      "metadata": {
        "id": "radvtZe_Ti59",
        "colab_type": "code",
        "colab": {
          "base_uri": "https://localhost:8080/",
          "height": 68
        },
        "outputId": "146d90bc-bcfe-4770-a7e6-01281d4c70cf"
      },
      "source": [
        "#String find()\n",
        "#The find() method returns the index of first occurrence of the substring (if found). If not found, it returns -1.\n",
        "quote = 'Let it be, let it be, let it be'\n",
        "\n",
        "# first occurance of 'let it'(case sensitive)\n",
        "result = quote.find('let it')\n",
        "print(\"Substring 'let it':\", result)\n",
        "\n",
        "# find returns -1 if substring not found\n",
        "result = quote.find('small')\n",
        "print(\"Substring 'small ':\", result)\n",
        "\n",
        "# How to use find()\n",
        "if (quote.find('be,') != -1):\n",
        "    print(\"Contains substring 'be,'\")\n",
        "else:\n",
        "    print(\"Doesn't contain substring\")\n"
      ],
      "execution_count": 7,
      "outputs": [
        {
          "output_type": "stream",
          "text": [
            "Substring 'let it': 11\n",
            "Substring 'small ': -1\n",
            "Contains substring 'be,'\n"
          ],
          "name": "stdout"
        }
      ]
    },
    {
      "cell_type": "code",
      "metadata": {
        "id": "-NI4K20tU8nE",
        "colab_type": "code",
        "colab": {
          "base_uri": "https://localhost:8080/",
          "height": 85
        },
        "outputId": "8f915252-7952-4688-9159-64cb859325c3"
      },
      "source": [
        "#String join()\n",
        "#The join() string method returns a string by joining all the elements of an iterable, separated by a string separator.\n",
        "# .join() with lists\n",
        "numList = ['1', '2', '3', '4']\n",
        "separator = ', '\n",
        "print(separator.join(numList))\n",
        "\n",
        "# .join() with tuples\n",
        "numTuple = ('1', '2', '3', '4')\n",
        "print(separator.join(numTuple))\n",
        "\n",
        "s1 = 'abc'\n",
        "s2 = '123'\n",
        "\n",
        "# each element of s2 is separated by s1\n",
        "# '1'+ 'abc'+ '2'+ 'abc'+ '3'\n",
        "print('s1.join(s2):', s1.join(s2))\n",
        "\n",
        "# each element of s1 is separated by s2\n",
        "# 'a'+ '123'+ 'b'+ '123'+ 'b'\n",
        "print('s2.join(s1):', s2.join(s1))\n"
      ],
      "execution_count": 9,
      "outputs": [
        {
          "output_type": "stream",
          "text": [
            "1, 2, 3, 4\n",
            "1, 2, 3, 4\n",
            "s1.join(s2): 1abc2abc3\n",
            "s2.join(s1): a123b123c\n"
          ],
          "name": "stdout"
        }
      ]
    },
    {
      "cell_type": "code",
      "metadata": {
        "id": "NsSEnyadVXJy",
        "colab_type": "code",
        "colab": {
          "base_uri": "https://localhost:8080/",
          "height": 51
        },
        "outputId": "34f80d8f-66ef-4005-e953-0b682a5a79f5"
      },
      "source": [
        "#String replace()\n",
        "#The replace() method returns a copy of the string where all occurrences of a substring is replaced with another substring.\n",
        "song = 'cold, cold heart'\n",
        "\n",
        "# replacing 'cold' with 'hurt'\n",
        "print(song.replace('cold', 'hurt'))\n",
        "\n",
        "song = 'Let it be, let it be, let it be, let it be'\n",
        "\n",
        "# replacing only two occurences of 'let'\n",
        "print(song.replace('let', \"don't let\", 2))\n"
      ],
      "execution_count": 14,
      "outputs": [
        {
          "output_type": "stream",
          "text": [
            "hurt, hurt heart\n",
            "Let it be, don't let it be, don't let it be, let it be\n"
          ],
          "name": "stdout"
        }
      ]
    },
    {
      "cell_type": "code",
      "metadata": {
        "id": "e3jpRkNUVtY2",
        "colab_type": "code",
        "colab": {
          "base_uri": "https://localhost:8080/",
          "height": 34
        },
        "outputId": "8ed62019-c2dc-433d-e3a1-a4dcae6558b2"
      },
      "source": [
        "# String count()\n",
        "#The string count() method returns the number of occurrences of a substring in the given string.\n",
        "# define string\n",
        "string = \"Python is Coolest, isn't it?\"\n",
        "substring = \"is\"\n",
        "\n",
        "count = string.count(substring)\n",
        "\n",
        "# print count\n",
        "print(\"The count is:\", count)\n",
        "\n"
      ],
      "execution_count": 16,
      "outputs": [
        {
          "output_type": "stream",
          "text": [
            "The count is: 2\n"
          ],
          "name": "stdout"
        }
      ]
    },
    {
      "cell_type": "code",
      "metadata": {
        "id": "MNVPvpBEWDjJ",
        "colab_type": "code",
        "colab": {
          "base_uri": "https://localhost:8080/",
          "height": 34
        },
        "outputId": "b69ebaaf-8214-4412-d1c6-88b584a71b18"
      },
      "source": [
        "#String center()\n",
        "#The center() method returns a string which is padded with the specified character.\n",
        "string = \"Python is Coolest\"\n",
        "\n",
        "new_string = string.center(24)\n",
        "\n",
        "print(\"Centered String: \", new_string)"
      ],
      "execution_count": 15,
      "outputs": [
        {
          "output_type": "stream",
          "text": [
            "Centered String:     Python is Coolest    \n"
          ],
          "name": "stdout"
        }
      ]
    },
    {
      "cell_type": "code",
      "metadata": {
        "id": "N11QS1iiWjO0",
        "colab_type": "code",
        "colab": {}
      },
      "source": [
        ""
      ],
      "execution_count": null,
      "outputs": []
    }
  ]
}