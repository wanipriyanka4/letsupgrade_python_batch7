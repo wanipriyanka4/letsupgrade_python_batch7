{
  "nbformat": 4,
  "nbformat_minor": 0,
  "metadata": {
    "colab": {
      "name": "Assinment1 Day9",
      "provenance": [],
      "collapsed_sections": []
    },
    "kernelspec": {
      "name": "python3",
      "display_name": "Python 3"
    }
  },
  "cells": [
    {
      "cell_type": "code",
      "metadata": {
        "id": "gwu-riO0MEMl",
        "colab_type": "code",
        "colab": {}
      },
      "source": [
        "# Q1Make a small genrator program for returning armstrong numbers in between 1-1000 in a genrator object\n",
        "\t \n",
        "\n",
        "def arm(limit): \n",
        " \n",
        "     sum=0\n",
        "    \n",
        "\n",
        "temp = num\n",
        "while temp > 0:\n",
        "   digit = temp % 10\n",
        "   sum += digit ** 3\n",
        "   temp //= 10\n",
        "# Create a generator object \n",
        "x = arm(limit) \n",
        "\n",
        "if num == sum:\n",
        "   print(num,\"is an Armstrong number\")\n",
        "else:\n",
        "   print(num,\"is not an Armstrong number\")\n"
      ],
      "execution_count": null,
      "outputs": []
    },
    {
      "cell_type": "code",
      "metadata": {
        "id": "ED9Ym2l5MKw7",
        "colab_type": "code",
        "colab": {}
      },
      "source": [
        ""
      ],
      "execution_count": null,
      "outputs": []
    }
  ]
}