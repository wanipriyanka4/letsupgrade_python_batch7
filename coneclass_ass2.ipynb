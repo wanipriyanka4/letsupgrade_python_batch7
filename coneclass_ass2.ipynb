{
  "nbformat": 4,
  "nbformat_minor": 0,
  "metadata": {
    "colab": {
      "name": "coneclass ass2",
      "provenance": [],
      "collapsed_sections": []
    },
    "kernelspec": {
      "name": "python3",
      "display_name": "Python 3"
    }
  },
  "cells": [
    {
      "cell_type": "code",
      "metadata": {
        "id": "sCPRmS3sIq2z",
        "colab_type": "code",
        "colab": {
          "base_uri": "https://localhost:8080/",
          "height": 51
        },
        "outputId": "739eed44-2026-44cc-d057-e89862ca9c7e"
      },
      "source": [
        "#Q for this challenge,create a cone class that has two attributes\n",
        "#R= Radius\n",
        "#h=height\n",
        "#and  two methods\n",
        "#volume = pi *r2 *(h/3)\n",
        "#surface area:base: pi*r2,side:pi*rootof(r2+h2)\n",
        "\n",
        "\n",
        "\n",
        "''' Python3 program to calculate Volume and  \n",
        "    Surface area of Cone'''\n",
        "  \n",
        "# Importing Math library for value Of PI \n",
        "import math \n",
        "pi = math.pi \n",
        "  \n",
        "# Function to calculate Volume of Cone \n",
        "def volume(r, h): \n",
        "   return pi * r* r *(h/3)\n",
        "  \n",
        "# Function To Calculate Surface Area of Cone \n",
        "def surfacearea(r, s): \n",
        "    return pi * r * s + pi * r * r \n",
        "  \n",
        "  \n",
        "# Driver Code \n",
        "radius = float(5) \n",
        "height = float(12) \n",
        "slat_height = float(13) \n",
        "print( \"Volume Of Cone : \", volume(radius, height) ) \n",
        "print( \"Surface Area Of Cone : \", surfacearea(radius, slat_height) ) \n"
      ],
      "execution_count": 16,
      "outputs": [
        {
          "output_type": "stream",
          "text": [
            "Volume Of Cone :  314.1592653589793\n",
            "Surface Area Of Cone :  282.7433388230814\n"
          ],
          "name": "stdout"
        }
      ]
    },
    {
      "cell_type": "code",
      "metadata": {
        "id": "8ismwWjTIzuL",
        "colab_type": "code",
        "colab": {}
      },
      "source": [
        ""
      ],
      "execution_count": null,
      "outputs": []
    }
  ]
}