{
  "nbformat": 4,
  "nbformat_minor": 0,
  "metadata": {
    "colab": {
      "name": "capilizing ass3",
      "provenance": [],
      "collapsed_sections": []
    },
    "kernelspec": {
      "name": "python3",
      "display_name": "Python 3"
    }
  },
  "cells": [
    {
      "cell_type": "code",
      "metadata": {
        "id": "0Amx9wnOlZ0Y",
        "colab_type": "code",
        "colab": {
          "base_uri": "https://localhost:8080/",
          "height": 51
        },
        "outputId": "f08379a9-f36b-4ec7-9dcf-5cc45d1e3b6b"
      },
      "source": [
        "#Q2 Make a Lambda function for capitalizing the whole sentence passed using arguments\n",
        "\n",
        "#And Map all the sentences in the List with the Lambda function\n",
        "#[\"hey this is sai\", i am in mumbai\",.....]\n",
        "#o/p\n",
        "#[\"Hey This is sai \",I Am Mumbai\",...]\n",
        "\n",
        "\n",
        "# Python code to convert all string \n",
        "# from uppercase to lowercase. \n",
        "  \n",
        "# Initialisation \n",
        "input = ['hey this is sai'] \n",
        "  \n",
        "# Converting \n",
        "lst = [x.upper() for x in input] \n",
        "  \n",
        "# printing output \n",
        "print(lst) \n",
        "\n",
        "\n",
        "# Python code to convert all string \n",
        "# from uppercase to lowercase. \n",
        "  \n",
        "# Using map function \n",
        "out = map(lambda x:x.lower(), ['i am in mumbai..']) \n",
        "  \n",
        "# Converting it into list \n",
        "output = list(out) \n",
        "  \n",
        "# printing output \n",
        "print(output) \n",
        "\n",
        "\n",
        "\n",
        "\n",
        "\n",
        "\n",
        "  \n",
        "\n",
        "\n",
        "\n",
        "\n"
      ],
      "execution_count": null,
      "outputs": [
        {
          "output_type": "stream",
          "text": [
            "['HEY THIS IS SAI']\n",
            "['i am in mumbai..']\n"
          ],
          "name": "stdout"
        }
      ]
    },
    {
      "cell_type": "code",
      "metadata": {
        "id": "yOMc8Onylr15",
        "colab_type": "code",
        "colab": {}
      },
      "source": [
        ""
      ],
      "execution_count": null,
      "outputs": []
    }
  ]
}