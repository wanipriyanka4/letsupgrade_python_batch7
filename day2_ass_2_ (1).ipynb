{
  "nbformat": 4,
  "nbformat_minor": 0,
  "metadata": {
    "colab": {
      "name": "day2 ass 2.",
      "provenance": []
    },
    "kernelspec": {
      "name": "python3",
      "display_name": "Python 3"
    }
  },
  "cells": [
    {
      "cell_type": "code",
      "metadata": {
        "id": "PyNnQG6vh7Ry",
        "colab_type": "code",
        "colab": {
          "base_uri": "https://localhost:8080/",
          "height": 51
        },
        "outputId": "5ff5bbf8-a775-40bd-8291-e5e565e75dc2"
      },
      "source": [
        "#copy() Parameters\n",
        "#copy() method doesn't take any parameters.\n",
        "\n",
        "\n",
        "original = {1:'one', 2:'two'}\n",
        "new = original.copy()\n",
        "\n",
        "print('Orignal: ', original)\n",
        "print('New: ', new)\n",
        "\n"
      ],
      "execution_count": null,
      "outputs": [
        {
          "output_type": "stream",
          "text": [
            "Orignal:  {1: 'one', 2: 'two'}\n",
            "New:  {1: 'one', 2: 'two'}\n"
          ],
          "name": "stdout"
        }
      ]
    },
    {
      "cell_type": "code",
      "metadata": {
        "id": "BHdAedV1iZla",
        "colab_type": "code",
        "colab": {
          "base_uri": "https://localhost:8080/",
          "height": 51
        },
        "outputId": "733fa0b5-c038-49fc-8188-4c203ae06732"
      },
      "source": [
        "#Difference in Using copy() method, and = Operator to Copy Dictionaries\n",
        "# when copy() method is used, a new dictionary is created which is filled with a copy of the references from the original dictionary.\n",
        "original = {1:'one', 2:'two'}\n",
        "new = original\n",
        "\n",
        "# removing all elements from the list\n",
        "new.clear()\n",
        "\n",
        "print('new: ', new)\n",
        "print('original: ', original)"
      ],
      "execution_count": null,
      "outputs": [
        {
          "output_type": "stream",
          "text": [
            "new:  {}\n",
            "original:  {}\n"
          ],
          "name": "stdout"
        }
      ]
    },
    {
      "cell_type": "code",
      "metadata": {
        "id": "fG0bTaoAixpM",
        "colab_type": "code",
        "colab": {}
      },
      "source": [
        ""
      ],
      "execution_count": null,
      "outputs": []
    }
  ]
}